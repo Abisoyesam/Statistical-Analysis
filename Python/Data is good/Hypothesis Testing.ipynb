{
 "cells": [
  {
   "cell_type": "markdown",
   "id": "7b53831b",
   "metadata": {},
   "source": [
    "# Hypothesis Testing\n",
    "*\n",
    "*"
   ]
  },
  {
   "cell_type": "markdown",
   "id": "0758681b",
   "metadata": {},
   "source": [
    "## One Sample T Test\n",
    "\n",
    "It is a statistical procedure used to examine or compare the mean of sample data to already known population mean. `stats.ttest_1samp()`\n",
    "\n",
    "$$t = \\dfrac{\\bar x - \\mu}{\\dfrac{s}{\\sqrt n}} $$\n",
    "\n",
    "It is used when the sample size is **less than or equal to 30**.\n",
    "\n",
    "### Degree of Freedom\n",
    "\n",
    "It is the number of values in the final calculation of a statistic that are free to vary. It can be calculate: $n -1$\n"
   ]
  },
  {
   "cell_type": "markdown",
   "id": "4794eae7",
   "metadata": {},
   "source": [
    "<hr>\n",
    "\n",
    "**EXAMPLE:**\n",
    "Calculate the resting systolic blood pressure of 20 first-year resident female doctors and compare it to the general public population mean of 120mmHg.\n",
    "\n",
    "<u>Solution</u>\n",
    "\n",
    "**Null Hypothesis:** There is no significant difference between the blood pressures of the resident female doctors and the general population.\n",
    "\n",
    "**Alternate:** There is a statistically significant difference between the blood pressure of the resident female doctors and the general population."
   ]
  },
  {
   "cell_type": "code",
   "execution_count": 1,
   "id": "2fb26ee5",
   "metadata": {},
   "outputs": [],
   "source": [
    "from scipy import stats"
   ]
  },
  {
   "cell_type": "code",
   "execution_count": 18,
   "id": "2141137a",
   "metadata": {},
   "outputs": [
    {
     "data": {
      "text/plain": [
       "Ttest_1sampResult(statistic=4.512403659336718, pvalue=0.00023838063630967753)"
      ]
     },
     "execution_count": 18,
     "metadata": {},
     "output_type": "execute_result"
    }
   ],
   "source": [
    "female_doctor_bps = [128, 127, 118, 115, 144, 142, 133, 140, 132, 131, \n",
    "                     111, 132, 149, 122, 139, 119, 136, 129, 126, 128]\n",
    "\n",
    "# one sample t-test\n",
    "stats.ttest_1samp(female_doctor_bps,120)"
   ]
  },
  {
   "cell_type": "markdown",
   "id": "e72994c0",
   "metadata": {},
   "source": [
    "The pvalue is less than 0.05. Hence, reject the null hypothesis. *The is a statistically significant difference between the resting systolic blood pressure of the resident female doctors and the general population.*\n",
    "\n",
    "<hr>"
   ]
  },
  {
   "cell_type": "markdown",
   "id": "43d1e3d1",
   "metadata": {},
   "source": [
    "## Two Sample T Test\n",
    "\n",
    "It is the statistical procedure used to examine or compare the mean of two separate samples. `stats.ttest_ind()`\n",
    "\n",
    "$$t = \\dfrac{\\bar x_1 + \\bar x_2}{\\sqrt{s_p^2(\\frac{1}{n_2} + \\frac{1}{n_2})}}$$\n",
    "\n",
    "**DOF:** $n_1 + n_2 - 2$. "
   ]
  },
  {
   "cell_type": "markdown",
   "id": "05362ea4",
   "metadata": {},
   "source": [
    "<hr>\n",
    "\n",
    "**EXAMPLE:**\n",
    "Compare the blood pressure of male consultant doctors with the junior resident female doctors.\n",
    "\n",
    "<u>Solution</u>\n",
    "\n",
    "**Null Hypothesis:** There is no significant difference between the blood pressure of male consultant doctors and junior  resident female doctors.\n",
    "\n",
    "**Alternate:** There is a statistically significant difference between the blood pressure of the male consultant doctors and junior resident female doctors."
   ]
  },
  {
   "cell_type": "code",
   "execution_count": 6,
   "id": "03f84232",
   "metadata": {},
   "outputs": [],
   "source": [
    "import pandas as pd\n",
    "\n",
    "# read data\n",
    "bps = pd.read_csv('../data/bp.csv')"
   ]
  },
  {
   "cell_type": "code",
   "execution_count": 11,
   "id": "06bceea9",
   "metadata": {},
   "outputs": [
    {
     "data": {
      "text/html": [
       "<div>\n",
       "<style scoped>\n",
       "    .dataframe tbody tr th:only-of-type {\n",
       "        vertical-align: middle;\n",
       "    }\n",
       "\n",
       "    .dataframe tbody tr th {\n",
       "        vertical-align: top;\n",
       "    }\n",
       "\n",
       "    .dataframe thead th {\n",
       "        text-align: right;\n",
       "    }\n",
       "</style>\n",
       "<table border=\"1\" class=\"dataframe\">\n",
       "  <thead>\n",
       "    <tr style=\"text-align: right;\">\n",
       "      <th></th>\n",
       "      <th>female_bps</th>\n",
       "      <th>male_bps</th>\n",
       "    </tr>\n",
       "  </thead>\n",
       "  <tbody>\n",
       "    <tr>\n",
       "      <th>0</th>\n",
       "      <td>128</td>\n",
       "      <td>118</td>\n",
       "    </tr>\n",
       "    <tr>\n",
       "      <th>1</th>\n",
       "      <td>127</td>\n",
       "      <td>115</td>\n",
       "    </tr>\n",
       "    <tr>\n",
       "      <th>2</th>\n",
       "      <td>118</td>\n",
       "      <td>112</td>\n",
       "    </tr>\n",
       "    <tr>\n",
       "      <th>3</th>\n",
       "      <td>115</td>\n",
       "      <td>120</td>\n",
       "    </tr>\n",
       "    <tr>\n",
       "      <th>4</th>\n",
       "      <td>144</td>\n",
       "      <td>124</td>\n",
       "    </tr>\n",
       "  </tbody>\n",
       "</table>\n",
       "</div>"
      ],
      "text/plain": [
       "   female_bps  male_bps\n",
       "0         128       118\n",
       "1         127       115\n",
       "2         118       112\n",
       "3         115       120\n",
       "4         144       124"
      ]
     },
     "execution_count": 11,
     "metadata": {},
     "output_type": "execute_result"
    }
   ],
   "source": [
    "bps.head()"
   ]
  },
  {
   "cell_type": "code",
   "execution_count": 17,
   "id": "66d89292",
   "metadata": {},
   "outputs": [
    {
     "data": {
      "text/plain": [
       "Ttest_indResult(statistic=3.5143256412718564, pvalue=0.0011571376404026158)"
      ]
     },
     "execution_count": 17,
     "metadata": {},
     "output_type": "execute_result"
    }
   ],
   "source": [
    "# two sample t test\n",
    "stats.ttest_ind(bps.iloc[:,0],bps.iloc[:,1])"
   ]
  },
  {
   "cell_type": "markdown",
   "id": "1b35d996",
   "metadata": {},
   "source": [
    "## Paired Sample T Test\n",
    "\n",
    "It is a statistical procedure for examining or comparing the means of two samples. It has the situation of before and after. `stats.ttest_rel()`\n",
    "\n",
    "$$ \\large t = \\dfrac{\\bar d}{\\frac{s}{\\sqrt{n}}}$$\n",
    "\n",
    "Degree of Freedom: $n - 1$"
   ]
  },
  {
   "cell_type": "markdown",
   "id": "ac328178",
   "metadata": {},
   "source": [
    "<hr>\n",
    "\n",
    "**EXAMPLE:**\n",
    "Measure and compare the amount of sleep by patients before and after taking soporific drug to help them sleep.\n",
    "\n",
    "<u>Solution</u>\n",
    "\n",
    "**Null Hypothesis:** The drug has no effect on the sleep duration of the patients. \n",
    "\n",
    "**Alternate:** The drug has an effect on the sleep duration of the patients."
   ]
  },
  {
   "cell_type": "code",
   "execution_count": 19,
   "id": "774c4d7b",
   "metadata": {},
   "outputs": [],
   "source": [
    "sleep_duration = pd.read_csv('../data/sleep_duration.csv')\n",
    "control, treatment = sleep_duration.iloc[:,0],sleep_duration.iloc[:,1]"
   ]
  },
  {
   "cell_type": "code",
   "execution_count": 20,
   "id": "301878ef",
   "metadata": {},
   "outputs": [
    {
     "data": {
      "text/plain": [
       "Ttest_relResult(statistic=-3.9698390753392734, pvalue=0.003255434487402806)"
      ]
     },
     "execution_count": 20,
     "metadata": {},
     "output_type": "execute_result"
    }
   ],
   "source": [
    "# paired sample t test\n",
    "stats.ttest_rel(control,treatment)"
   ]
  },
  {
   "cell_type": "markdown",
   "id": "bbfaf78b",
   "metadata": {},
   "source": [
    "**N.B:** pvalue is less than 0.05. Therefore, we reject the null hypothesis. There is a statistically significant difference in sleep duration caused by soporofic drug."
   ]
  },
  {
   "cell_type": "markdown",
   "id": "bcd7524b",
   "metadata": {},
   "source": [
    "## One Sample Z Test\n",
    "\n",
    "It is a statistical test to determine whether two population means are different when the variances are known.\n",
    "\n",
    "**T-Test Vs Z-Test**\n",
    "\n",
    "In t test, the sample size is less than or equal to 30 and the population standard deviation is unknown.\n",
    "\n",
    "In z test, the sample size is greater than 30 and the population standard deviation is known.\n",
    "\n",
    "**The One Sample z-test** is used to test whether the mean of a population is greater than, less than, or not equal to a specific value.\n",
    "\n",
    "$$ z = \\dfrac{\\bar x - \\mu}{\\sigma} $$"
   ]
  },
  {
   "cell_type": "code",
   "execution_count": null,
   "id": "b2972a95",
   "metadata": {},
   "outputs": [],
   "source": []
  }
 ],
 "metadata": {
  "kernelspec": {
   "display_name": "Python 3 (ipykernel)",
   "language": "python",
   "name": "python3"
  },
  "language_info": {
   "codemirror_mode": {
    "name": "ipython",
    "version": 3
   },
   "file_extension": ".py",
   "mimetype": "text/x-python",
   "name": "python",
   "nbconvert_exporter": "python",
   "pygments_lexer": "ipython3",
   "version": "3.9.13"
  }
 },
 "nbformat": 4,
 "nbformat_minor": 5
}
