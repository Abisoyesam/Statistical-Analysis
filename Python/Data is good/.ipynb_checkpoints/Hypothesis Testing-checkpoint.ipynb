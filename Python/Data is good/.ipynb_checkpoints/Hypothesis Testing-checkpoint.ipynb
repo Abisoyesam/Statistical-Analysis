{
 "cells": [
  {
   "cell_type": "markdown",
   "id": "31da9f3d",
   "metadata": {},
   "source": [
    "# Hypothesis Testing\n",
    "*\n",
    "*"
   ]
  },
  {
   "cell_type": "markdown",
   "id": "d0a718d9",
   "metadata": {},
   "source": [
    "## One Sample T Test\n",
    "\n",
    "It is a statistical procedure used to examine or compare the mean of sample data to already known population mean. `stats.ttest_1samp()`\n",
    "\n",
    "$$t = \\dfrac{\\bar x - \\mu}{\\dfrac{s}{\\sqrt n}} $$\n",
    "\n",
    "It is used when the sample size is **less than or equal to 30**.\n",
    "\n",
    "### Degree of Freedom\n",
    "\n",
    "It is the number of values in the final calculation of a statistic that are free to vary. It can be calculate: $n -1$\n"
   ]
  },
  {
   "cell_type": "markdown",
   "id": "b7867e7f",
   "metadata": {},
   "source": [
    "<hr>\n",
    "\n",
    "**EXAMPLE:**\n",
    "Calculate the resting systolic blood pressure of 20 first-year resident female doctors and compare it to the general public population mean of 120mmHg.\n",
    "\n",
    "<u>Solution</u>\n",
    "\n",
    "**Null Hypothesis:** There is no significant difference between the blood pressures of the resident female doctors and the general population.\n",
    "\n",
    "**Alternate:** There is a statistically significant difference between the blood pressure of the resident female doctors and the general population."
   ]
  },
  {
   "cell_type": "code",
   "execution_count": 1,
   "id": "db741260",
   "metadata": {},
   "outputs": [],
   "source": [
    "from scipy import stats"
   ]
  },
  {
   "cell_type": "code",
   "execution_count": 2,
   "id": "f6ae33bd",
   "metadata": {},
   "outputs": [
    {
     "data": {
      "text/plain": [
       "Ttest_1sampResult(statistic=4.512403659336718, pvalue=0.00023838063630967753)"
      ]
     },
     "execution_count": 2,
     "metadata": {},
     "output_type": "execute_result"
    }
   ],
   "source": [
    "female_doctor_bps = [128, 127, 118, 115, 144, 142, 133, 140, 132, 131, \n",
    "                     111, 132, 149, 122, 139, 119, 136, 129, 126, 128]\n",
    "\n",
    "# one sample t-test\n",
    "stats.ttest_1samp(female_doctor_bps,120)"
   ]
  },
  {
   "cell_type": "markdown",
   "id": "3c0f7f54",
   "metadata": {},
   "source": [
    "The pvalue is less than 0.05. Hence, reject the null hypothesis. *The is a statistically significant difference between the resting systolic blood pressure of the resident female doctors and the general population.*\n",
    "\n",
    "<hr>"
   ]
  },
  {
   "cell_type": "markdown",
   "id": "d5b7070a",
   "metadata": {},
   "source": [
    "## Two Sample T Test\n",
    "\n",
    "It is the statistical procedure used to examine or compare the mean of two separate samples. `stats.ttest_ind()`\n",
    "\n",
    "$$t = \\dfrac{\\bar x_1 + \\bar x_2}{\\sqrt{s_p^2(\\frac{1}{n_2} + \\frac{1}{n_2})}}$$\n",
    "\n",
    "**DOF:** $n_1 + n_2 - 2$. "
   ]
  },
  {
   "cell_type": "markdown",
   "id": "842dd983",
   "metadata": {},
   "source": [
    "<hr>\n",
    "\n",
    "**EXAMPLE:**\n",
    "Compare the blood pressure of male consultant doctors with the junior resident female doctors.\n",
    "\n",
    "<u>Solution</u>\n",
    "\n",
    "**Null Hypothesis:** There is no significant difference between the blood pressure of male consultant doctors and junior  resident female doctors.\n",
    "\n",
    "**Alternate:** There is a statistically significant difference between the blood pressure of the male consultant doctors and junior resident female doctors."
   ]
  },
  {
   "cell_type": "code",
   "execution_count": 3,
   "id": "c18c85fc",
   "metadata": {},
   "outputs": [],
   "source": [
    "import pandas as pd\n",
    "\n",
    "# read data\n",
    "bps = pd.read_csv('../data/bp.csv')"
   ]
  },
  {
   "cell_type": "code",
   "execution_count": 4,
   "id": "8c25de47",
   "metadata": {},
   "outputs": [
    {
     "data": {
      "text/html": [
       "<div>\n",
       "<style scoped>\n",
       "    .dataframe tbody tr th:only-of-type {\n",
       "        vertical-align: middle;\n",
       "    }\n",
       "\n",
       "    .dataframe tbody tr th {\n",
       "        vertical-align: top;\n",
       "    }\n",
       "\n",
       "    .dataframe thead th {\n",
       "        text-align: right;\n",
       "    }\n",
       "</style>\n",
       "<table border=\"1\" class=\"dataframe\">\n",
       "  <thead>\n",
       "    <tr style=\"text-align: right;\">\n",
       "      <th></th>\n",
       "      <th>female_bps</th>\n",
       "      <th>male_bps</th>\n",
       "    </tr>\n",
       "  </thead>\n",
       "  <tbody>\n",
       "    <tr>\n",
       "      <th>0</th>\n",
       "      <td>128</td>\n",
       "      <td>118</td>\n",
       "    </tr>\n",
       "    <tr>\n",
       "      <th>1</th>\n",
       "      <td>127</td>\n",
       "      <td>115</td>\n",
       "    </tr>\n",
       "    <tr>\n",
       "      <th>2</th>\n",
       "      <td>118</td>\n",
       "      <td>112</td>\n",
       "    </tr>\n",
       "    <tr>\n",
       "      <th>3</th>\n",
       "      <td>115</td>\n",
       "      <td>120</td>\n",
       "    </tr>\n",
       "    <tr>\n",
       "      <th>4</th>\n",
       "      <td>144</td>\n",
       "      <td>124</td>\n",
       "    </tr>\n",
       "  </tbody>\n",
       "</table>\n",
       "</div>"
      ],
      "text/plain": [
       "   female_bps  male_bps\n",
       "0         128       118\n",
       "1         127       115\n",
       "2         118       112\n",
       "3         115       120\n",
       "4         144       124"
      ]
     },
     "execution_count": 4,
     "metadata": {},
     "output_type": "execute_result"
    }
   ],
   "source": [
    "bps.head()"
   ]
  },
  {
   "cell_type": "code",
   "execution_count": 5,
   "id": "6480cb69",
   "metadata": {},
   "outputs": [
    {
     "data": {
      "text/plain": [
       "Ttest_indResult(statistic=3.5143256412718564, pvalue=0.0011571376404026158)"
      ]
     },
     "execution_count": 5,
     "metadata": {},
     "output_type": "execute_result"
    }
   ],
   "source": [
    "# two sample t test\n",
    "stats.ttest_ind(bps.iloc[:,0],bps.iloc[:,1])"
   ]
  },
  {
   "cell_type": "markdown",
   "id": "4139a507",
   "metadata": {},
   "source": [
    "## Paired Sample T Test\n",
    "\n",
    "It is a statistical procedure for examining or comparing the means of two samples. It has the situation of before and after. `stats.ttest_rel()`\n",
    "\n",
    "$$ \\large t = \\dfrac{\\bar d}{\\frac{s}{\\sqrt{n}}}$$\n",
    "\n",
    "Degree of Freedom: $n - 1$"
   ]
  },
  {
   "cell_type": "markdown",
   "id": "e427986b",
   "metadata": {},
   "source": [
    "<hr>\n",
    "\n",
    "**EXAMPLE:**\n",
    "Measure and compare the amount of sleep by patients before and after taking soporific drug to help them sleep.\n",
    "\n",
    "<u>Solution</u>\n",
    "\n",
    "**Null Hypothesis:** The drug has no effect on the sleep duration of the patients. \n",
    "\n",
    "**Alternate:** The drug has an effect on the sleep duration of the patients."
   ]
  },
  {
   "cell_type": "code",
   "execution_count": 6,
   "id": "ac4949d2",
   "metadata": {},
   "outputs": [],
   "source": [
    "sleep_duration = pd.read_csv('../data/sleep_duration.csv')\n",
    "control, treatment = sleep_duration.iloc[:,0],sleep_duration.iloc[:,1]"
   ]
  },
  {
   "cell_type": "code",
   "execution_count": 7,
   "id": "601355b1",
   "metadata": {},
   "outputs": [
    {
     "data": {
      "text/plain": [
       "Ttest_relResult(statistic=-3.9698390753392734, pvalue=0.003255434487402806)"
      ]
     },
     "execution_count": 7,
     "metadata": {},
     "output_type": "execute_result"
    }
   ],
   "source": [
    "# paired sample t test\n",
    "stats.ttest_rel(control,treatment)"
   ]
  },
  {
   "cell_type": "markdown",
   "id": "1371271c",
   "metadata": {},
   "source": [
    "**N.B:** pvalue is less than 0.05. Therefore, we reject the null hypothesis. There is a statistically significant difference in sleep duration caused by soporofic drug."
   ]
  },
  {
   "cell_type": "markdown",
   "id": "a40f5cb5",
   "metadata": {},
   "source": [
    "## One Sample Z Test\n",
    "\n",
    "It is a statistical test to determine whether two population means are different when the variances are known.\n",
    "\n",
    "**T-Test Vs Z-Test**\n",
    "\n",
    "In t test, the sample size is less than or equal to 30 and the population standard deviation is unknown.\n",
    "\n",
    "In z test, the sample size is greater than 30 and the population standard deviation is known.\n",
    "\n",
    "**The One Sample z-test** is used to test whether the mean of a population is greater than, less than, or not equal to a specific value.\n",
    "\n",
    "$$ z = \\dfrac{\\bar x - \\mu}{\\sigma} $$\n",
    "\n",
    "After finding the z-score, find the corresponding value of z-statistic from the z table. A **z-table** is a mathematical table that allows us to know the percentage of values below a z-score value in a standard normal standard deviation.\n",
    "\n",
    "**N.B:**\n",
    "* If z-score is positive, then the pvalue = 1 - zscore\n",
    "* If negative, then pvalue = zscore.\n",
    "* If pvalue < significance level, then reject the null hypothesis."
   ]
  },
  {
   "cell_type": "code",
   "execution_count": 8,
   "id": "3df24484",
   "metadata": {},
   "outputs": [
    {
     "data": {
      "text/html": [
       "<div>\n",
       "<style scoped>\n",
       "    .dataframe tbody tr th:only-of-type {\n",
       "        vertical-align: middle;\n",
       "    }\n",
       "\n",
       "    .dataframe tbody tr th {\n",
       "        vertical-align: top;\n",
       "    }\n",
       "\n",
       "    .dataframe thead th {\n",
       "        text-align: right;\n",
       "    }\n",
       "</style>\n",
       "<table border=\"1\" class=\"dataframe\">\n",
       "  <thead>\n",
       "    <tr style=\"text-align: right;\">\n",
       "      <th></th>\n",
       "      <th>Id</th>\n",
       "      <th>MSSubClass</th>\n",
       "      <th>MSZoning</th>\n",
       "      <th>LotFrontage</th>\n",
       "      <th>LotArea</th>\n",
       "      <th>Street</th>\n",
       "      <th>Alley</th>\n",
       "      <th>LotShape</th>\n",
       "      <th>LandContour</th>\n",
       "      <th>Utilities</th>\n",
       "      <th>...</th>\n",
       "      <th>PoolArea</th>\n",
       "      <th>PoolQC</th>\n",
       "      <th>Fence</th>\n",
       "      <th>MiscFeature</th>\n",
       "      <th>MiscVal</th>\n",
       "      <th>MoSold</th>\n",
       "      <th>YrSold</th>\n",
       "      <th>SaleType</th>\n",
       "      <th>SaleCondition</th>\n",
       "      <th>SalePrice</th>\n",
       "    </tr>\n",
       "  </thead>\n",
       "  <tbody>\n",
       "    <tr>\n",
       "      <th>0</th>\n",
       "      <td>1</td>\n",
       "      <td>60</td>\n",
       "      <td>RL</td>\n",
       "      <td>65.0</td>\n",
       "      <td>8450</td>\n",
       "      <td>Pave</td>\n",
       "      <td>NaN</td>\n",
       "      <td>Reg</td>\n",
       "      <td>Lvl</td>\n",
       "      <td>AllPub</td>\n",
       "      <td>...</td>\n",
       "      <td>0</td>\n",
       "      <td>NaN</td>\n",
       "      <td>NaN</td>\n",
       "      <td>NaN</td>\n",
       "      <td>0</td>\n",
       "      <td>2</td>\n",
       "      <td>2008</td>\n",
       "      <td>WD</td>\n",
       "      <td>Normal</td>\n",
       "      <td>208500</td>\n",
       "    </tr>\n",
       "    <tr>\n",
       "      <th>1</th>\n",
       "      <td>2</td>\n",
       "      <td>20</td>\n",
       "      <td>RL</td>\n",
       "      <td>80.0</td>\n",
       "      <td>9600</td>\n",
       "      <td>Pave</td>\n",
       "      <td>NaN</td>\n",
       "      <td>Reg</td>\n",
       "      <td>Lvl</td>\n",
       "      <td>AllPub</td>\n",
       "      <td>...</td>\n",
       "      <td>0</td>\n",
       "      <td>NaN</td>\n",
       "      <td>NaN</td>\n",
       "      <td>NaN</td>\n",
       "      <td>0</td>\n",
       "      <td>5</td>\n",
       "      <td>2007</td>\n",
       "      <td>WD</td>\n",
       "      <td>Normal</td>\n",
       "      <td>181500</td>\n",
       "    </tr>\n",
       "    <tr>\n",
       "      <th>2</th>\n",
       "      <td>3</td>\n",
       "      <td>60</td>\n",
       "      <td>RL</td>\n",
       "      <td>68.0</td>\n",
       "      <td>11250</td>\n",
       "      <td>Pave</td>\n",
       "      <td>NaN</td>\n",
       "      <td>IR1</td>\n",
       "      <td>Lvl</td>\n",
       "      <td>AllPub</td>\n",
       "      <td>...</td>\n",
       "      <td>0</td>\n",
       "      <td>NaN</td>\n",
       "      <td>NaN</td>\n",
       "      <td>NaN</td>\n",
       "      <td>0</td>\n",
       "      <td>9</td>\n",
       "      <td>2008</td>\n",
       "      <td>WD</td>\n",
       "      <td>Normal</td>\n",
       "      <td>223500</td>\n",
       "    </tr>\n",
       "    <tr>\n",
       "      <th>3</th>\n",
       "      <td>4</td>\n",
       "      <td>70</td>\n",
       "      <td>RL</td>\n",
       "      <td>60.0</td>\n",
       "      <td>9550</td>\n",
       "      <td>Pave</td>\n",
       "      <td>NaN</td>\n",
       "      <td>IR1</td>\n",
       "      <td>Lvl</td>\n",
       "      <td>AllPub</td>\n",
       "      <td>...</td>\n",
       "      <td>0</td>\n",
       "      <td>NaN</td>\n",
       "      <td>NaN</td>\n",
       "      <td>NaN</td>\n",
       "      <td>0</td>\n",
       "      <td>2</td>\n",
       "      <td>2006</td>\n",
       "      <td>WD</td>\n",
       "      <td>Abnorml</td>\n",
       "      <td>140000</td>\n",
       "    </tr>\n",
       "    <tr>\n",
       "      <th>4</th>\n",
       "      <td>5</td>\n",
       "      <td>60</td>\n",
       "      <td>RL</td>\n",
       "      <td>84.0</td>\n",
       "      <td>14260</td>\n",
       "      <td>Pave</td>\n",
       "      <td>NaN</td>\n",
       "      <td>IR1</td>\n",
       "      <td>Lvl</td>\n",
       "      <td>AllPub</td>\n",
       "      <td>...</td>\n",
       "      <td>0</td>\n",
       "      <td>NaN</td>\n",
       "      <td>NaN</td>\n",
       "      <td>NaN</td>\n",
       "      <td>0</td>\n",
       "      <td>12</td>\n",
       "      <td>2008</td>\n",
       "      <td>WD</td>\n",
       "      <td>Normal</td>\n",
       "      <td>250000</td>\n",
       "    </tr>\n",
       "  </tbody>\n",
       "</table>\n",
       "<p>5 rows × 81 columns</p>\n",
       "</div>"
      ],
      "text/plain": [
       "   Id  MSSubClass MSZoning  LotFrontage  LotArea Street Alley LotShape  \\\n",
       "0   1          60       RL         65.0     8450   Pave   NaN      Reg   \n",
       "1   2          20       RL         80.0     9600   Pave   NaN      Reg   \n",
       "2   3          60       RL         68.0    11250   Pave   NaN      IR1   \n",
       "3   4          70       RL         60.0     9550   Pave   NaN      IR1   \n",
       "4   5          60       RL         84.0    14260   Pave   NaN      IR1   \n",
       "\n",
       "  LandContour Utilities  ... PoolArea PoolQC Fence MiscFeature MiscVal MoSold  \\\n",
       "0         Lvl    AllPub  ...        0    NaN   NaN         NaN       0      2   \n",
       "1         Lvl    AllPub  ...        0    NaN   NaN         NaN       0      5   \n",
       "2         Lvl    AllPub  ...        0    NaN   NaN         NaN       0      9   \n",
       "3         Lvl    AllPub  ...        0    NaN   NaN         NaN       0      2   \n",
       "4         Lvl    AllPub  ...        0    NaN   NaN         NaN       0     12   \n",
       "\n",
       "  YrSold  SaleType  SaleCondition  SalePrice  \n",
       "0   2008        WD         Normal     208500  \n",
       "1   2007        WD         Normal     181500  \n",
       "2   2008        WD         Normal     223500  \n",
       "3   2006        WD        Abnorml     140000  \n",
       "4   2008        WD         Normal     250000  \n",
       "\n",
       "[5 rows x 81 columns]"
      ]
     },
     "execution_count": 8,
     "metadata": {},
     "output_type": "execute_result"
    }
   ],
   "source": [
    "data = pd.read_csv('../data/train.csv')\n",
    "data.head()"
   ]
  },
  {
   "cell_type": "markdown",
   "id": "0d313bfa",
   "metadata": {},
   "source": [
    "**Problem statement:** \n",
    "Test whether the mean of house prices is 180000 or not.\n",
    "\n",
    "**Null Hypothesis:** The mean house price is 180000.\n",
    "\n",
    "**Alternate:** The mean house price is not 180000."
   ]
  },
  {
   "cell_type": "code",
   "execution_count": 9,
   "id": "7c92f2aa",
   "metadata": {},
   "outputs": [
    {
     "name": "stdout",
     "output_type": "stream",
     "text": [
      "P value is: 0.6577127747949538 \n",
      "Z value is: 0.44307321990459303\n",
      "Fail to reject the null hypothesis\n"
     ]
    }
   ],
   "source": [
    "from statsmodels.stats import weightstats as stests\n",
    "\n",
    "ztest, pval = stests.ztest(x1=data[\"SalePrice\"], x2=None, value=180000)\n",
    "print(f\"P value is: {float(pval)} \\nZ value is: {float(ztest)}\")\n",
    "\n",
    "if pval < 0.05:\n",
    "    print(\"We reject the null hypothesis\")\n",
    "else:\n",
    "    print(\"Fail to reject the null hypothesis\")"
   ]
  },
  {
   "cell_type": "markdown",
   "id": "f1287988",
   "metadata": {},
   "source": [
    "<hr>\n",
    "\n",
    "## Two Sample Z Test\n",
    "\n",
    "The Two-sample z-test is used to compare the means of two samples to see if it is feasible that they come from the same population.\n",
    "\n",
    "$$z = \\dfrac{(\\bar x_1 - \\bar x_2)-(\\mu_1 - \\mu_2)}{\\sqrt{\\frac{\\sigma_1^2}{n_1} + \\frac{\\sigma_2^2}{n_2}}} $$"
   ]
  },
  {
   "cell_type": "markdown",
   "id": "d0dd1839",
   "metadata": {},
   "source": [
    "**Problem statement:** \n",
    "Check if there is an association between the prices of the first floor per square feet and second floor per sqaure feet houses.\n",
    "\n",
    "**Null Hypothesis:** The mean of the first floor and the second floor per feet square houses are equal.\n",
    "\n",
    "**Alternate:** The mean of the first floor and the second floor per feet square houses are not equal."
   ]
  },
  {
   "cell_type": "code",
   "execution_count": 10,
   "id": "c8c141cf",
   "metadata": {},
   "outputs": [
    {
     "name": "stdout",
     "output_type": "stream",
     "text": [
      "\n",
      "P value: 0.0 \n",
      "Z score: 53.4475561911819\n",
      "We reject the null hypothesis\n"
     ]
    }
   ],
   "source": [
    "zstats, pval = stests.ztest(data['1stFlrSF'], data['2ndFlrSF'], value=0)\n",
    "print(f\"\\nP value: {pval} \\nZ score: {zstats}\")\n",
    "\n",
    "if pval < 0.05:\n",
    "    print(\"We reject the null hypothesis\")\n",
    "else:\n",
    "    print(\"Fail to reject the null hypothesis\")"
   ]
  },
  {
   "cell_type": "markdown",
   "id": "9ee9ee04",
   "metadata": {},
   "source": [
    "<hr>\n",
    "\n",
    "## One Sample ANOVA Test\n",
    "\n",
    "Two sample T or Z test can validate an hypothesis containing only **two groups** at a time but when there is **three or more groups**, ANOVA - Analysis of Variance is handy. `stats.f_oneway()`\n",
    "\n",
    "* Anova determines whether the means of three or more groups are different.\n",
    "* It uses F-Test to statistically test the equality of means.\n",
    "* It is used when there are three or more sample of less than and greater than 30.\n",
    "\n",
    "<u>Assumptions</u>\n",
    "* Anova assumes independence of observations\n",
    "* Homogeneity of variances\n",
    "* Normally distibuted observation within group\n",
    "\n",
    "<u>Degree of Freedom</u>\n",
    "\n",
    "**For between groups:**\n",
    "df = no. of groups - 1\n",
    "\n",
    "**For within groups:**\n",
    "df = total no. of observation - no. of groups"
   ]
  },
  {
   "cell_type": "markdown",
   "id": "6a1f51a8",
   "metadata": {},
   "source": [
    "**Problem Statement:**\n",
    "\n",
    "Examine whether the means of weights of plants under control and 2 different treatment condition is significantly similiar or different.\n",
    "\n",
    "**Null Hypothesis:** There is no difference between the means of the weights of dried plants under control and 2 different treatment condition.\n",
    "\n",
    "**Alternate Hypothesis:** There is a difference between the means of the weights of dried plants under control and 2 different treatment condition."
   ]
  },
  {
   "cell_type": "code",
   "execution_count": 11,
   "id": "355c4356",
   "metadata": {},
   "outputs": [
    {
     "data": {
      "text/plain": [
       "F_onewayResult(statistic=3.6421479763680336, pvalue=0.039776369202704415)"
      ]
     },
     "execution_count": 11,
     "metadata": {},
     "output_type": "execute_result"
    }
   ],
   "source": [
    "from scipy import stats\n",
    "\n",
    "crtl = [4.16, 5.58, 5.18, 6.11, 4.5, 4.61, 5.17, 4.53, 5.33, 5.14]\n",
    "trt1 = [4.81, 4.17, 4.41, 3.59, 5.87, 3.83, 6.83, 4.80, 4.32, 4.09]\n",
    "trt2 = [6.31, 5.12, 5.54, 5.5, 5.37, 5.29, 4.92, 6.15, 5.8, 5.26]\n",
    "\n",
    "stats.f_oneway(crtl,trt1,trt2)"
   ]
  },
  {
   "cell_type": "markdown",
   "id": "00f5f747",
   "metadata": {},
   "source": [
    "p_value < 0.05. We reject the null hypothesis. Hence, there is a significant difference between the means of the weight of dried plants under control and 2 different treatment condition."
   ]
  },
  {
   "cell_type": "markdown",
   "id": "c595e277",
   "metadata": {},
   "source": [
    "<hr>\n",
    "\n",
    "## Two Sample ANOVA Test\n",
    "\n",
    "In one way ANOVA, there is only one independent variable but in two way ANOVA, there are two independent variables.\n",
    "\n",
    "**N.B:** All the tests considered are used for **numerical variables** but there exist a `chi test` used for **categorical variable.**"
   ]
  },
  {
   "cell_type": "markdown",
   "id": "c8c72073",
   "metadata": {},
   "source": [
    "<hr>\n",
    "\n",
    "## Chi-Squared Test\n",
    "\n",
    "The `chi-squared` test also known as $x^2$ is used for testing for relationship between categorical variables.\n",
    "\n",
    "There are two types of chi-squared test:\n",
    "1. Goodness of fit test\n",
    "2. Chi-squared test of independence\n",
    "\n",
    "### Goodness of Fit Test\n",
    "\n",
    "It is used to test whether the sample data correctly represents the population data or not.\n",
    "\n",
    "$$ X^2 =  \\Sigma\\dfrac{(0 - E)^2}{E}$$"
   ]
  },
  {
   "cell_type": "markdown",
   "id": "e02b5b43",
   "metadata": {},
   "source": [
    "**Problem Statement:**\n",
    "Generate a fake demographic data for Nigeria and any one state in Nigeria (say Oyo). Use the chi-squared Goodness of fit to check whether they are different."
   ]
  },
  {
   "cell_type": "code",
   "execution_count": 12,
   "id": "84311841",
   "metadata": {},
   "outputs": [],
   "source": [
    "from scipy import stats\n",
    "import pandas as pd"
   ]
  },
  {
   "cell_type": "code",
   "execution_count": 15,
   "id": "a2bbe01e",
   "metadata": {},
   "outputs": [],
   "source": [
    "national = pd.DataFrame([\"white\"]*100000 + ['hispanic']*60000 +\n",
    "                        ['black']*50000 + ['others']*35000)\n",
    "\n",
    "state = pd.DataFrame([\"white\"]*600 + ['hispanic']*300 + \n",
    "                        ['black']*250 + ['others']*150)\n",
    "\n",
    "national_table = pd.crosstab(index=national[0],columns=\"count\")\n",
    "\n",
    "state_table = pd.crosstab(index=state[0],columns=\"count\")"
   ]
  },
  {
   "cell_type": "code",
   "execution_count": 17,
   "id": "3f07673e",
   "metadata": {},
   "outputs": [
    {
     "name": "stdout",
     "output_type": "stream",
     "text": [
      "col_0\n",
      "count    17.884615\n",
      "dtype: float64\n"
     ]
    }
   ],
   "source": [
    "observed = state_table\n",
    "\n",
    "# get population ratios\n",
    "national_ratio = national_table/len(national)\n",
    "\n",
    "# get expected count\n",
    "expected = national_ratio * len(state)\n",
    "\n",
    "# chi squared\n",
    "chi_squared_stat = ((observed-expected)**2/expected).sum()\n",
    "print(chi_squared_stat)"
   ]
  },
  {
   "cell_type": "markdown",
   "id": "907fe81f",
   "metadata": {},
   "source": [
    "### Test of Independence\n"
   ]
  }
 ],
 "metadata": {
  "kernelspec": {
   "display_name": "Python 3 (ipykernel)",
   "language": "python",
   "name": "python3"
  },
  "language_info": {
   "codemirror_mode": {
    "name": "ipython",
    "version": 3
   },
   "file_extension": ".py",
   "mimetype": "text/x-python",
   "name": "python",
   "nbconvert_exporter": "python",
   "pygments_lexer": "ipython3",
   "version": "3.9.13"
  }
 },
 "nbformat": 4,
 "nbformat_minor": 5
}
